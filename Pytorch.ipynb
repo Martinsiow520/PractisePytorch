{
  "cells": [
    {
      "cell_type": "code",
      "execution_count": 1,
      "metadata": {
        "colab": {
          "base_uri": "https://localhost:8080/"
        },
        "id": "D9Q922GIaUrz",
        "outputId": "a44205c3-5dcc-4e69-b0cd-7f575efd39d0"
      },
      "outputs": [
        {
          "output_type": "stream",
          "name": "stdout",
          "text": [
            "1.3.5\n",
            "1.21.6\n",
            "4.6.0\n",
            "1.12.1+cu113\n"
          ]
        }
      ],
      "source": [
        "import torch\n",
        "import pandas as pd\n",
        "import numpy as np\n",
        "import cv2 as cv\n",
        "import matplotlib.pyplot as plt\n",
        "print(pd.__version__)\n",
        "print(np.__version__)\n",
        "print(cv.__version__)\n",
        "print(torch.__version__)\n"
      ]
    },
    {
      "cell_type": "code",
      "execution_count": 2,
      "metadata": {
        "colab": {
          "base_uri": "https://localhost:8080/"
        },
        "id": "cRq7NLTmbX5w",
        "outputId": "721cda1e-668b-4400-a778-28aba743d2dd"
      },
      "outputs": [
        {
          "output_type": "stream",
          "name": "stdout",
          "text": [
            "NVIDIA-SMI has failed because it couldn't communicate with the NVIDIA driver. Make sure that the latest NVIDIA driver is installed and running.\n",
            "\n"
          ]
        }
      ],
      "source": [
        "!nvidia-smi"
      ]
    },
    {
      "cell_type": "code",
      "execution_count": 3,
      "metadata": {
        "id": "_MdRmG8bWC-5"
      },
      "outputs": [],
      "source": [
        "# create data\n",
        "start = 0\n",
        "end = 100\n",
        "step = 0.2\n",
        "\n",
        "#weight and bias for linear regression equation y = weight * X + bias\n",
        "\n",
        "weight = 0.7\n",
        "bias = 0.3\n",
        "\n",
        "#Write the equation \n",
        "\n",
        "X = torch.arange(start, end, step).unsqueeze(dim=1)\n",
        "y = weight * X + bias\n",
        "\n",
        "\n"
      ]
    },
    {
      "cell_type": "code",
      "execution_count": 4,
      "metadata": {
        "colab": {
          "base_uri": "https://localhost:8080/"
        },
        "id": "rt2-3R3hiUBW",
        "outputId": "fe7ab9fd-2503-4b5c-8784-7c03679a82f4"
      },
      "outputs": [
        {
          "output_type": "execute_result",
          "data": {
            "text/plain": [
              "(400, 400, 100, 100)"
            ]
          },
          "metadata": {},
          "execution_count": 4
        }
      ],
      "source": [
        "# Split data\n",
        "train_split = int(0.8*len(X))\n",
        "Xtrain, ytrain = X[:train_split], y[:train_split] \n",
        "Xtest, ytest = X[train_split:], y[train_split:]\n",
        "\n",
        "len(Xtrain), len(ytrain), len(Xtest), len(ytest)"
      ]
    },
    {
      "cell_type": "code",
      "execution_count": 8,
      "metadata": {
        "id": "oe7ZEpeijrOk"
      },
      "outputs": [],
      "source": [
        "def plot_predictions(          train_data = Xtrain,\n",
        "                     train_labels = ytrain,\n",
        "                     test_data = Xtest,\n",
        "                     test_labels = ytest,\n",
        "                     predictions =None):\n",
        "  plt.figure(figsize = (10, 7))\n",
        "  plt.scatter(train_data, train_labels, c =\"b\", s=4, label=\"training data\")\n",
        "  plt.scatter(test_data, test_labels, c=\"r\", s=4, label=\"testing data\")\n",
        "\n",
        "  if predictions is not None:\n",
        "    plt.scatter(test_data, predictions, c =\"y\", s=4, label=\"Predictions\")\n",
        "  plt.legend(prop={\"size\":14})"
      ]
    },
    {
      "cell_type": "code",
      "execution_count": 9,
      "metadata": {
        "id": "xfWVRb5nnRyb",
        "colab": {
          "base_uri": "https://localhost:8080/",
          "height": 428
        },
        "outputId": "3fb6f07b-9fdb-4a02-fae4-c37aae3ab5f6"
      },
      "outputs": [
        {
          "output_type": "display_data",
          "data": {
            "text/plain": [
              "<Figure size 720x504 with 1 Axes>"
            ],
            "image/png": "[encoded data removed]"
          },
          "metadata": {
            "needs_background": "light"
          }
        }
      ],
      "source": [
        "plot_predictions(Xtrain, ytrain, Xtest, ytest)"
      ]
    },
    {
      "cell_type": "code",
      "source": [
        "from torch import nn\n",
        "class LRM(nn.Module):\n",
        "  def __init__(self) -> None:\n",
        "    super().__init__()\n",
        "    self.weights = nn.Parameter(torch.randn(1))\n",
        "    self.bias = nn.Parameter(torch.randn(1))\n",
        "  \n",
        "  def forward(self, x:torch.Tensor):\n",
        "    return self.weights *x + self.bias"
      ],
      "metadata": {
        "id": "xaR_wfEc54xH"
      },
      "execution_count": 10,
      "outputs": []
    },
    {
      "cell_type": "code",
      "source": [
        "torch.manual_seed(42)\n",
        "\n",
        "models = LRM()\n"
      ],
      "metadata": {
        "id": "tgtYEcvm7i72"
      },
      "execution_count": 11,
      "outputs": []
    },
    {
      "cell_type": "code",
      "source": [
        "models.state_dict()"
      ],
      "metadata": {
        "colab": {
          "base_uri": "https://localhost:8080/"
        },
        "id": "UnZGBXGw7vr-",
        "outputId": "8452310b-219f-4ee8-bef5-82feff8f7284"
      },
      "execution_count": 12,
      "outputs": [
        {
          "output_type": "execute_result",
          "data": {
            "text/plain": [
              "OrderedDict([('weights', tensor([0.3367])), ('bias', tensor([0.1288]))])"
            ]
          },
          "metadata": {},
          "execution_count": 12
        }
      ]
    },
    {
      "cell_type": "code",
      "source": [
        "with torch.inference_mode():\n",
        "  y_preds = models(Xtest)\n",
        "  "
      ],
      "metadata": {
        "id": "rdARi0Ur74Pg"
      },
      "execution_count": 13,
      "outputs": []
    },
    {
      "cell_type": "code",
      "source": [
        "plot_predictions(predictions=y_preds)"
      ],
      "metadata": {
        "colab": {
          "base_uri": "https://localhost:8080/",
          "height": 428
        },
        "id": "1cfh9N288ELs",
        "outputId": "f44bd83a-609f-4e1e-be7e-4e7aade3f885"
      },
      "execution_count": 14,
      "outputs": [
        {
          "output_type": "display_data",
          "data": {
            "text/plain": [
              "<Figure size 720x504 with 1 Axes>"
            ],
            "image/png": "[encoded data removed]"
          },
          "metadata": {
            "needs_background": "light"
          }
        }
      ]
    },
    {
      "cell_type": "code",
      "source": [
        "loss_fn = nn.L1Loss()\n",
        "optim = torch.optim.SGD(params=models.parameters(),lr=0.01)"
      ],
      "metadata": {
        "id": "O1FMfx1X8QiF"
      },
      "execution_count": 18,
      "outputs": []
    },
    {
      "cell_type": "code",
      "source": [
        "torch.manual_seed(42)\n",
        "\n",
        "epochs = 100\n",
        "\n",
        "train_loss_values = []\n",
        "test_loss_values = []\n",
        "epoch_count = []\n",
        "\n",
        "for epoch in range(epochs):\n",
        "  models.train()\n",
        "\n",
        "  y_pred = models(Xtrain)\n",
        "  loss = loss_fn(y_pred, ytrain)\n",
        "  optim.zero_grad()\n",
        "\n",
        "  loss.backward()\n",
        "\n",
        "  optim.step()\n",
        "\n",
        "  models.eval()\n",
        "  with torch.inference_mode():\n",
        "    test_pred = models(Xtest)\n",
        "    test_loss = loss_fn(test_pred, ytest.type(torch.float))\n",
        "\n",
        "    if epoch % 10 == 0:\n",
        "      epoch_count.append(epoch)\n",
        "      train_loss_values.append(loss.detach().numpy())\n",
        "      test_loss_values.append(test_loss.detach().numpy())\n",
        "      \n",
        "      print(f\"Epoch: {epoch} | MAE Train Loss: {loss} | MAE Test Loss: {test_loss} \")"
      ],
      "metadata": {
        "colab": {
          "base_uri": "https://localhost:8080/"
        },
        "id": "KQ4-tH1h83o3",
        "outputId": "dcd3a7f9-f70e-4f5c-aad2-738b2bc0eafc"
      },
      "execution_count": 29,
      "outputs": [
        {
          "output_type": "stream",
          "name": "stdout",
          "text": [
            "Epoch: 0 | MAE Train Loss: 13.019062042236328 | MAE Test Loss: 6.720527172088623 \n",
            "Epoch: 10 | MAE Train Loss: 12.944999694824219 | MAE Test Loss: 6.884575843811035 \n",
            "Epoch: 20 | MAE Train Loss: 12.880664825439453 | MAE Test Loss: 7.026900768280029 \n",
            "Epoch: 30 | MAE Train Loss: 12.822813987731934 | MAE Test Loss: 7.154743194580078 \n",
            "Epoch: 40 | MAE Train Loss: 12.764961242675781 | MAE Test Loss: 7.282592296600342 \n",
            "Epoch: 50 | MAE Train Loss: 12.707108497619629 | MAE Test Loss: 7.410434722900391 \n",
            "Epoch: 60 | MAE Train Loss: 12.657783508300781 | MAE Test Loss: 7.519252300262451 \n",
            "Epoch: 70 | MAE Train Loss: 12.61413860321045 | MAE Test Loss: 7.615395545959473 \n",
            "Epoch: 80 | MAE Train Loss: 12.5704984664917 | MAE Test Loss: 7.7115325927734375 \n",
            "Epoch: 90 | MAE Train Loss: 12.52685546875 | MAE Test Loss: 7.807668685913086 \n"
          ]
        }
      ]
    },
    {
      "cell_type": "code",
      "source": [
        "plt.plot(epoch_count, train_loss_values, label = \"train loss\")\n",
        "plt.plot(epoch_count, test_loss_values, label = \"test loss\")\n",
        "plt.title(\"training amd test loss curves\")\n",
        "plt.ylabel(\"loss\")\n",
        "plt.xlabel(\"Epochs\")\n",
        "plt.legend();"
      ],
      "metadata": {
        "colab": {
          "base_uri": "https://localhost:8080/",
          "height": 295
        },
        "id": "__DK_GcP_jcF",
        "outputId": "43acfe91-2eff-4e90-cdf7-5bfc12ff5b89"
      },
      "execution_count": 30,
      "outputs": [
        {
          "output_type": "display_data",
          "data": {
            "text/plain": [
              "<Figure size 432x288 with 1 Axes>"
            ],
            "image/png": "[encoded data removed]"
          },
          "metadata": {
            "needs_background": "light"
          }
        }
      ]
    },
    {
      "cell_type": "code",
      "source": [
        "models.eval()\n",
        "\n",
        "with torch.inference_mode():\n",
        "  y_preds = models(Xtest)\n",
        "\n",
        "y_preds\n"
      ],
      "metadata": {
        "colab": {
          "base_uri": "https://localhost:8080/"
        },
        "id": "ClChaNRUBIqP",
        "outputId": "c42b55ef-191c-4509-eb73-734c76ebf463"
      },
      "execution_count": 32,
      "outputs": [
        {
          "output_type": "execute_result",
          "data": {
            "text/plain": [
              "tensor([[31.3913],\n",
              "        [31.4694],\n",
              "        [31.5474],\n",
              "        [31.6254],\n",
              "        [31.7035],\n",
              "        [31.7815],\n",
              "        [31.8595],\n",
              "        [31.9375],\n",
              "        [32.0156],\n",
              "        [32.0936],\n",
              "        [32.1716],\n",
              "        [32.2496],\n",
              "        [32.3277],\n",
              "        [32.4057],\n",
              "        [32.4837],\n",
              "        [32.5618],\n",
              "        [32.6398],\n",
              "        [32.7178],\n",
              "        [32.7958],\n",
              "        [32.8739],\n",
              "        [32.9519],\n",
              "        [33.0299],\n",
              "        [33.1079],\n",
              "        [33.1860],\n",
              "        [33.2640],\n",
              "        [33.3420],\n",
              "        [33.4201],\n",
              "        [33.4981],\n",
              "        [33.5761],\n",
              "        [33.6541],\n",
              "        [33.7322],\n",
              "        [33.8102],\n",
              "        [33.8882],\n",
              "        [33.9663],\n",
              "        [34.0443],\n",
              "        [34.1223],\n",
              "        [34.2003],\n",
              "        [34.2784],\n",
              "        [34.3564],\n",
              "        [34.4344],\n",
              "        [34.5124],\n",
              "        [34.5905],\n",
              "        [34.6685],\n",
              "        [34.7465],\n",
              "        [34.8246],\n",
              "        [34.9026],\n",
              "        [34.9806],\n",
              "        [35.0586],\n",
              "        [35.1367],\n",
              "        [35.2147],\n",
              "        [35.2927],\n",
              "        [35.3708],\n",
              "        [35.4488],\n",
              "        [35.5268],\n",
              "        [35.6048],\n",
              "        [35.6829],\n",
              "        [35.7609],\n",
              "        [35.8389],\n",
              "        [35.9169],\n",
              "        [35.9950],\n",
              "        [36.0730],\n",
              "        [36.1510],\n",
              "        [36.2291],\n",
              "        [36.3071],\n",
              "        [36.3851],\n",
              "        [36.4631],\n",
              "        [36.5412],\n",
              "        [36.6192],\n",
              "        [36.6972],\n",
              "        [36.7753],\n",
              "        [36.8533],\n",
              "        [36.9313],\n",
              "        [37.0093],\n",
              "        [37.0874],\n",
              "        [37.1654],\n",
              "        [37.2434],\n",
              "        [37.3214],\n",
              "        [37.3995],\n",
              "        [37.4775],\n",
              "        [37.5555],\n",
              "        [37.6336],\n",
              "        [37.7116],\n",
              "        [37.7896],\n",
              "        [37.8676],\n",
              "        [37.9457],\n",
              "        [38.0237],\n",
              "        [38.1017],\n",
              "        [38.1798],\n",
              "        [38.2578],\n",
              "        [38.3358],\n",
              "        [38.4138],\n",
              "        [38.4919],\n",
              "        [38.5699],\n",
              "        [38.6479],\n",
              "        [38.7259],\n",
              "        [38.8040],\n",
              "        [38.8820],\n",
              "        [38.9600],\n",
              "        [39.0381],\n",
              "        [39.1161]])"
            ]
          },
          "metadata": {},
          "execution_count": 32
        }
      ]
    },
    {
      "cell_type": "code",
      "source": [
        "plot_predictions(predictions=y_preds)"
      ],
      "metadata": {
        "colab": {
          "base_uri": "https://localhost:8080/",
          "height": 428
        },
        "id": "QPiqsVoMCLqG",
        "outputId": "7f42accf-4cff-4b1c-9d51-e4cd3907eb42"
      },
      "execution_count": 33,
      "outputs": [
        {
          "output_type": "display_data",
          "data": {
            "text/plain": [
              "<Figure size 720x504 with 1 Axes>"
            ],
            "image/png": "[encoded data removed]"
          },
          "metadata": {
            "needs_background": "light"
          }
        }
      ]
    },
    {
      "cell_type": "code",
      "source": [
        "from pathlib import Path\n",
        "\n",
        "# 1. Create models directory \n",
        "MODEL_PATH = Path(\"models\")\n",
        "MODEL_PATH.mkdir(parents=True, exist_ok=True)\n",
        "\n",
        "# 2. Create model save path \n",
        "MODEL_NAME = \"01_pytorch_workflow_model_0.pth\"\n",
        "MODEL_SAVE_PATH = MODEL_PATH / MODEL_NAME\n",
        "\n",
        "# 3. Save the model state dict \n",
        "print(f\"Saving model to: {MODEL_SAVE_PATH}\")\n",
        "torch.save(obj=models.state_dict(), # only saving the state_dict() only saves the models learned parameters\n",
        "           f=MODEL_SAVE_PATH)"
      ],
      "metadata": {
        "colab": {
          "base_uri": "https://localhost:8080/"
        },
        "id": "lvj5JFuuCY3c",
        "outputId": "3aa6e4f0-4c7d-44b2-e9fc-76f7a2fd1211"
      },
      "execution_count": 34,
      "outputs": [
        {
          "output_type": "stream",
          "name": "stdout",
          "text": [
            "Saving model to: models/01_pytorch_workflow_model_0.pth\n"
          ]
        }
      ]
    },
    {
      "cell_type": "code",
      "source": [
        "!ls -l models/01_pytorch_workflow_model_0.pth"
      ],
      "metadata": {
        "colab": {
          "base_uri": "https://localhost:8080/"
        },
        "id": "EPso0m0VCcAs",
        "outputId": "093bd6f9-a6a1-43ed-dd92-68eca43b3046"
      },
      "execution_count": 35,
      "outputs": [
        {
          "output_type": "stream",
          "name": "stdout",
          "text": [
            "-rw-r--r-- 1 root root 1063 Oct 25 12:06 models/01_pytorch_workflow_model_0.pth\n"
          ]
        }
      ]
    },
    {
      "cell_type": "code",
      "source": [
        "# Instantiate a new instance of our model (this will be instantiated with random weights)\n",
        "loaded_models1 = LRM()\n",
        "\n",
        "# Load the state_dict of our saved model (this will update the new instance of our model with trained weights)\n",
        "loaded_models1.load_state_dict(torch.load(f=MODEL_SAVE_PATH))"
      ],
      "metadata": {
        "colab": {
          "base_uri": "https://localhost:8080/"
        },
        "id": "O_gu0Bh_CfjE",
        "outputId": "6d183cb8-7ccc-43ec-805a-f2d7b12d964e"
      },
      "execution_count": 36,
      "outputs": [
        {
          "output_type": "execute_result",
          "data": {
            "text/plain": [
              "<All keys matched successfully>"
            ]
          },
          "metadata": {},
          "execution_count": 36
        }
      ]
    },
    {
      "cell_type": "code",
      "source": [
        "\n",
        "# 1. Put the loaded model into evaluation mode\n",
        "loaded_models1.eval()\n",
        "\n",
        "# 2. Use the inference mode context manager to make predictions\n",
        "with torch.inference_mode():\n",
        "    loaded_model_preds = loaded_models1(Xtest)"
      ],
      "metadata": {
        "id": "Pa5Ay5loCqet"
      },
      "execution_count": 39,
      "outputs": []
    },
    {
      "cell_type": "code",
      "source": [
        "y_preds == loaded_model_preds"
      ],
      "metadata": {
        "colab": {
          "base_uri": "https://localhost:8080/"
        },
        "id": "jwQPLrbHC53W",
        "outputId": "7a0f1a72-7a71-4772-d847-755fce2ad980"
      },
      "execution_count": 40,
      "outputs": [
        {
          "output_type": "execute_result",
          "data": {
            "text/plain": [
              "tensor([[True],\n",
              "        [True],\n",
              "        [True],\n",
              "        [True],\n",
              "        [True],\n",
              "        [True],\n",
              "        [True],\n",
              "        [True],\n",
              "        [True],\n",
              "        [True],\n",
              "        [True],\n",
              "        [True],\n",
              "        [True],\n",
              "        [True],\n",
              "        [True],\n",
              "        [True],\n",
              "        [True],\n",
              "        [True],\n",
              "        [True],\n",
              "        [True],\n",
              "        [True],\n",
              "        [True],\n",
              "        [True],\n",
              "        [True],\n",
              "        [True],\n",
              "        [True],\n",
              "        [True],\n",
              "        [True],\n",
              "        [True],\n",
              "        [True],\n",
              "        [True],\n",
              "        [True],\n",
              "        [True],\n",
              "        [True],\n",
              "        [True],\n",
              "        [True],\n",
              "        [True],\n",
              "        [True],\n",
              "        [True],\n",
              "        [True],\n",
              "        [True],\n",
              "        [True],\n",
              "        [True],\n",
              "        [True],\n",
              "        [True],\n",
              "        [True],\n",
              "        [True],\n",
              "        [True],\n",
              "        [True],\n",
              "        [True],\n",
              "        [True],\n",
              "        [True],\n",
              "        [True],\n",
              "        [True],\n",
              "        [True],\n",
              "        [True],\n",
              "        [True],\n",
              "        [True],\n",
              "        [True],\n",
              "        [True],\n",
              "        [True],\n",
              "        [True],\n",
              "        [True],\n",
              "        [True],\n",
              "        [True],\n",
              "        [True],\n",
              "        [True],\n",
              "        [True],\n",
              "        [True],\n",
              "        [True],\n",
              "        [True],\n",
              "        [True],\n",
              "        [True],\n",
              "        [True],\n",
              "        [True],\n",
              "        [True],\n",
              "        [True],\n",
              "        [True],\n",
              "        [True],\n",
              "        [True],\n",
              "        [True],\n",
              "        [True],\n",
              "        [True],\n",
              "        [True],\n",
              "        [True],\n",
              "        [True],\n",
              "        [True],\n",
              "        [True],\n",
              "        [True],\n",
              "        [True],\n",
              "        [True],\n",
              "        [True],\n",
              "        [True],\n",
              "        [True],\n",
              "        [True],\n",
              "        [True],\n",
              "        [True],\n",
              "        [True],\n",
              "        [True],\n",
              "        [True]])"
            ]
          },
          "metadata": {},
          "execution_count": 40
        }
      ]
    }
  ],
  "metadata": {
    "colab": {
      "provenance": [],
      "collapsed_sections": []
    },
    "kernelspec": {
      "display_name": "Python 3",
      "name": "python3"
    },
    "language_info": {
      "name": "python"
    }
  },
  "nbformat": 4,
  "nbformat_minor": 0
}